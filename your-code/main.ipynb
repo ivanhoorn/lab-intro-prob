{
 "cells": [
  {
   "cell_type": "markdown",
   "metadata": {},
   "source": [
    "# Introduction To Probability\n",
    "## Challenge 1\n",
    "\n",
    "A and B are events of a probability space with $(\\omega, \\sigma, P)$ such that $P(A) = 0.3$, $P(B) = 0.6$ and $P(A \\cap B) = 0.1$\n",
    "\n",
    "Which of the following statements are false?\n",
    "* $P(A \\cup B) = 0.6$\n",
    "* $P(A \\cap B^{C}) = 0.2$\n",
    "* $P(A \\cap (B \\cup B^{C})) = 0.4$\n",
    "* $P(A^{C} \\cap B^{C}) = 0.3$\n",
    "* $P((A \\cap B)^{C}) = 0.9$"
   ]
  },
  {
   "cell_type": "code",
   "execution_count": null,
   "metadata": {},
   "outputs": [],
   "source": [
    "\"\"\"\n",
    "outside space = 1 - 𝑃(𝐴∪𝐵) = 1- 0.8 = 0.2\n",
    "\n",
    "𝑃(𝐴∪𝐵)= 𝑃(𝐴) + 𝑃(𝐵) - 𝑃(𝐴∩𝐵) = 0.3 + 0.6 - 0.1 = 0.8 --> False\n",
    "\n",
    "𝑃(𝐴∩𝐵^𝐶) = 𝑃(𝐴) - 𝑃(𝐴∩𝐵) = 0.3 - 0.1 = 0.2 --> True\n",
    "\n",
    "𝑃(𝐴∩(𝐵∪𝐵𝐶)) = 0.3 - 0.1 = 0.2 --> False?\n",
    "\n",
    "𝑃(𝐴𝐶∩𝐵𝐶) = outside space = 0.2 --> False\n",
    "\n",
    "𝑃((𝐴∩𝐵)𝐶) = 1- 𝑃(𝐴∩𝐵) = 1 - 0.1 = 0.9 --> True\n",
    "\n",
    "\"\"\""
   ]
  },
  {
   "cell_type": "markdown",
   "metadata": {},
   "source": [
    "## Challenge 2\n",
    "There is a box with 10 white balls, 12 red balls and 8 black balls. Calculate the probability of:\n",
    "* Taking a white ball out.\n",
    "* Taking a white ball out after taking a black ball out.\n",
    "* Taking a red ball out after taking a black and a red ball out.\n",
    "* Taking a red ball out after taking a black and a red ball out with reposition.\n",
    "\n",
    "**Hint**: Reposition means putting back the ball into the box after taking it out."
   ]
  },
  {
   "cell_type": "code",
   "execution_count": 1,
   "metadata": {},
   "outputs": [
    {
     "name": "stdout",
     "output_type": "stream",
     "text": [
      "probability of taking a white ball out is:  0.3333333333333333\n",
      "probability of taking a white ball out after taking a black ball out first is:  0.3448275862068966\n",
      "probability of taking a red ball out after taking a black and rred ball out first is:  0.39285714285714285\n",
      "probability of taking a red ball out after taking a black and rred ball out with reposition is:  0.4\n"
     ]
    }
   ],
   "source": [
    "white = 10\n",
    "red = 12\n",
    "black = 8\n",
    "\n",
    "prob_white = white/(white+red+black)\n",
    "\n",
    "print('probability of taking a white ball out is: ', prob_white)\n",
    "\n",
    "other_white = white/(white+red+black-1)\n",
    "\n",
    "print('probability of taking a white ball out after taking a black ball out first is: ', other_white)\n",
    "\n",
    "prob_red = (red-1)/(white+red +black -2)\n",
    "\n",
    "print('probability of taking a red ball out after taking a black and rred ball out first is: ', prob_red)\n",
    "\n",
    "other_red = red/(white+red +black)\n",
    "\n",
    "print('probability of taking a red ball out after taking a black and rred ball out with reposition is: ', other_red)"
   ]
  },
  {
   "cell_type": "markdown",
   "metadata": {},
   "source": [
    "## Challenge 3\n",
    "\n",
    "You are planning to go on a picnic today but the morning is cloudy. You hate rain so you don't know whether to go out or stay home! To help you make a decision, you gather the following data about rainy days:\n",
    "\n",
    "* Knowing that it is a rainy day, the probability of cloudy is 50%!\n",
    "* The probability of any day (rainy or not) starting off cloudy is 40%. \n",
    "* This month is usually dry so only 3 of 30 days (10%) tend to be rainy. \n",
    "\n",
    "What is the probability of rain, given the day started cloudy?"
   ]
  },
  {
   "cell_type": "code",
   "execution_count": null,
   "metadata": {},
   "outputs": [],
   "source": [
    "\"\"\"\n",
    "P (Cloudy | Rain) = 0.5\n",
    "P( Cloudy ) = 0.4\n",
    "P(Rain) = 0.1\n",
    "\n",
    "P(Rain|Cloudy) = P(Rain ∩ Cloudy )/P(Cloudy)\n",
    "\n",
    "P(Rain ∩ Cloudy) = P(Rain) * P(Cloudy) = 0.5 * 0.1 = 0.05\n",
    "\n",
    "P(C & R) = 0.5 * 0.1 = 0.05\n",
    "\n",
    "--> P(Rain|Cloudy) = 0.05/0.4 = 0.125\n",
    "\n",
    "\"\"\""
   ]
  },
  {
   "cell_type": "markdown",
   "metadata": {},
   "source": [
    "## Challenge 4\n",
    "\n",
    "One thousand people were asked through a telephone survey whether they thought more street lighting is needed at night or not.\n",
    "\n",
    "Out of the 480 men that answered the survey, 324 said yes and 156 said no. On the other hand, out of the 520 women that answered, 351 said yes and 169 said no. \n",
    "\n",
    "We wonder if men and women have a different opinions about the street lighting matter. Is gender relevant or irrelevant to the question?\n",
    "\n",
    "Consider the following events:\n",
    "- The answer is yes, so the person that answered thinks that more street lighting is needed.\n",
    "- The person who answered is a man.\n",
    "\n",
    "We want to know if these events are independent, that is, if the fact of wanting more light depends on whether one is male or female. Are these events independent or not?\n",
    "\n",
    "**Hint**: To clearly compare the answers by gender, it is best to place the data in a table."
   ]
  },
  {
   "cell_type": "code",
   "execution_count": 6,
   "metadata": {},
   "outputs": [
    {
     "data": {
      "text/html": [
       "<div>\n",
       "<style scoped>\n",
       "    .dataframe tbody tr th:only-of-type {\n",
       "        vertical-align: middle;\n",
       "    }\n",
       "\n",
       "    .dataframe tbody tr th {\n",
       "        vertical-align: top;\n",
       "    }\n",
       "\n",
       "    .dataframe thead th {\n",
       "        text-align: right;\n",
       "    }\n",
       "</style>\n",
       "<table border=\"1\" class=\"dataframe\">\n",
       "  <thead>\n",
       "    <tr style=\"text-align: right;\">\n",
       "      <th></th>\n",
       "      <th>Gender</th>\n",
       "      <th>Agree</th>\n",
       "      <th>Dont Agree</th>\n",
       "    </tr>\n",
       "  </thead>\n",
       "  <tbody>\n",
       "    <tr>\n",
       "      <td>0</td>\n",
       "      <td>male</td>\n",
       "      <td>0.675</td>\n",
       "      <td>0.325</td>\n",
       "    </tr>\n",
       "    <tr>\n",
       "      <td>1</td>\n",
       "      <td>female</td>\n",
       "      <td>0.675</td>\n",
       "      <td>0.325</td>\n",
       "    </tr>\n",
       "  </tbody>\n",
       "</table>\n",
       "</div>"
      ],
      "text/plain": [
       "   Gender  Agree  Dont Agree\n",
       "0    male  0.675       0.325\n",
       "1  female  0.675       0.325"
      ]
     },
     "execution_count": 6,
     "metadata": {},
     "output_type": "execute_result"
    }
   ],
   "source": [
    "import pandas as pd\n",
    "# your code here\n",
    "data =  pd.DataFrame({'Gender': ['male', 'female'],'Agree': [324/480, 351/520],\"Dont Agree\": [156/480, 169/520]})\n",
    "data"
   ]
  },
  {
   "cell_type": "code",
   "execution_count": 7,
   "metadata": {},
   "outputs": [],
   "source": [
    "# the probability is exaclty the same for both genders"
   ]
  },
  {
   "cell_type": "code",
   "execution_count": null,
   "metadata": {},
   "outputs": [],
   "source": []
  }
 ],
 "metadata": {
  "kernelspec": {
   "display_name": "Python 3",
   "language": "python",
   "name": "python3"
  },
  "language_info": {
   "codemirror_mode": {
    "name": "ipython",
    "version": 3
   },
   "file_extension": ".py",
   "mimetype": "text/x-python",
   "name": "python",
   "nbconvert_exporter": "python",
   "pygments_lexer": "ipython3",
   "version": "3.7.4"
  }
 },
 "nbformat": 4,
 "nbformat_minor": 2
}
